{
 "cells": [
  {
   "cell_type": "code",
   "execution_count": 37,
   "metadata": {},
   "outputs": [
    {
     "name": "stdout",
     "output_type": "stream",
     "text": [
      "Filtered image saved: ./Data/fits_filtered2_single/tic1.png\n",
      "Processed image available at: ./Data/fits_filtered2_single/tic1.png\n"
     ]
    }
   ],
   "source": [
    "import os\n",
    "import numpy as np\n",
    "import pandas as pd\n",
    "from astropy.io import fits\n",
    "from astropy.nddata import block_reduce\n",
    "from acstools.findsat_mrt import TrailFinder\n",
    "import matplotlib.pyplot as plt\n",
    "\n",
    "def process_single_fits_file(fits_file_path, output_directory):\n",
    "    # Ensure the output directory exists\n",
    "    os.makedirs(output_directory, exist_ok=True)\n",
    "\n",
    "    # Extract the filename without extension\n",
    "    fits_file_name = os.path.splitext(os.path.basename(fits_file_path))[0]\n",
    "\n",
    "    # Load the FITS file\n",
    "    image = fits.getdata(fits_file_path, ext=0)\n",
    "    image = image - np.nanmedian(image)\n",
    "\n",
    "    # Reduce the image size\n",
    "    reduced_image = block_reduce(image, 1, func=np.nansum)\n",
    "\n",
    "    # Apply the TrailFinder filter\n",
    "    trail_finder = TrailFinder(\n",
    "        reduced_image, processes=2, threshold=1, min_length=1, min_persistence=0, max_width=1\n",
    "    )\n",
    "    \n",
    "    # Display the image with overlay (if needed)\n",
    "    trail_finder.plot_image(overlay_mask=False)\n",
    "    plt.axis('off')\n",
    "    plt.title('')\n",
    "\n",
    "    # Save the filtered image without white margins\n",
    "    output_image_path = os.path.join(output_directory, f'{fits_file_name}.png')\n",
    "    plt.savefig(output_image_path, bbox_inches='tight')\n",
    "    plt.close()\n",
    "\n",
    "    print(f\"Filtered image saved: {output_image_path}\")\n",
    "\n",
    "    return output_image_path\n",
    "\n",
    "# Example usage:\n",
    "fits_file = './Data/fits2_ext/tic1.fit'  # Specify the FITS file path\n",
    "output_dir = './Data/fits_filtered2_single/'\n",
    "\n",
    "processed_image_path = process_single_fits_file(fits_file, output_dir)\n",
    "print(f\"Processed image available at: {processed_image_path}\")\n"
   ]
  }
 ],
 "metadata": {
  "kernelspec": {
   "display_name": "Python 3",
   "language": "python",
   "name": "python3"
  },
  "language_info": {
   "codemirror_mode": {
    "name": "ipython",
    "version": 3
   },
   "file_extension": ".py",
   "mimetype": "text/x-python",
   "name": "python",
   "nbconvert_exporter": "python",
   "pygments_lexer": "ipython3",
   "version": "3.10.0"
  }
 },
 "nbformat": 4,
 "nbformat_minor": 2
}
