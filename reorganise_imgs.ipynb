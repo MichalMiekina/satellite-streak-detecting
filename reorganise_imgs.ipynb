{
 "cells": [
  {
   "cell_type": "code",
   "execution_count": 1,
   "metadata": {},
   "outputs": [
    {
     "name": "stdout",
     "output_type": "stream",
     "text": [
      "File tic13.fit not found in ./Data/fits_filtered2/augmented/\n",
      "File tic14.fit not found in ./Data/fits_filtered2/augmented/\n",
      "File tic12.fit not found in ./Data/fits_filtered2/augmented/\n",
      "Data organized successfully!\n"
     ]
    }
   ],
   "source": [
    "import os\n",
    "import shutil\n",
    "import pandas as pd\n",
    "\n",
    "png_folder = './Data/fits_filtered2/augmented/'  # Replace with the folder containing your PNGs\n",
    "csv_path = os.path.join(png_folder, 'dictionary_0.csv')  # Replace with the path to your CSV file\n",
    "output_dir = os.path.join(png_folder, 'data/')  # Output directory for the organized structure\n",
    "\n",
    "# Define the subfolder structure\n",
    "folders = {\n",
    "    \"streak_train\": os.path.join(output_dir, \"train\", \"streak\"),\n",
    "    \"no_streak_train\": os.path.join(output_dir, \"train\", \"no_streak\"),\n",
    "    \"streak_val\": os.path.join(output_dir, \"val\", \"streak\"),\n",
    "    \"no_streak_val\": os.path.join(output_dir, \"val\", \"no_streak\"),\n",
    "}\n",
    "\n",
    "# Rest of the code...\n",
    "for folder in folders.values():\n",
    "    os.makedirs(folder, exist_ok=True)\n",
    "\n",
    "# Load the CSV\n",
    "data = pd.read_csv(csv_path)\n",
    "\n",
    "# Separate the data by label\n",
    "streak_data = data[data[\"label\"] == 1]\n",
    "no_streak_data = data[data[\"label\"] == 0]\n",
    "\n",
    "# Shuffle within each group\n",
    "streak_data = streak_data.sample(frac=1, random_state=42).reset_index(drop=True)\n",
    "no_streak_data = no_streak_data.sample(frac=1, random_state=42).reset_index(drop=True)\n",
    "\n",
    "# Split each group into training (80%) and validation (20%)\n",
    "streak_train = streak_data.sample(frac=0.8, random_state=42)\n",
    "streak_val = streak_data.drop(streak_train.index)\n",
    "\n",
    "no_streak_train = no_streak_data.sample(frac=0.8, random_state=42)\n",
    "no_streak_val = no_streak_data.drop(no_streak_train.index)\n",
    "\n",
    "# Function to move files\n",
    "def move_files(dataframe, label, split):\n",
    "    for _, row in dataframe.iterrows():\n",
    "        png_name = row[\"output\"]  # Assuming 'output' column has the PNG filename\n",
    "        src_path = os.path.join(png_folder, png_name)\n",
    "\n",
    "        # Determine destination folder\n",
    "        if label == \"streak\":\n",
    "            dest_folder = folders[f\"streak_{split}\"]\n",
    "        else:\n",
    "            dest_folder = folders[f\"no_streak_{split}\"]\n",
    "\n",
    "        dest_path = os.path.join(dest_folder, png_name)\n",
    "\n",
    "        if os.path.exists(src_path):\n",
    "            shutil.copy(src_path, dest_path)  # Use shutil.copy if you want to keep original files\n",
    "        else:\n",
    "            print(f\"File {png_name} not found in {png_folder}\")\n",
    "\n",
    "# Move training files\n",
    "move_files(streak_train, \"streak\", \"train\")\n",
    "move_files(no_streak_train, \"no_streak\", \"train\")\n",
    "\n",
    "# Move validation files\n",
    "move_files(streak_val, \"streak\", \"val\")\n",
    "move_files(no_streak_val, \"no_streak\", \"val\")\n",
    "\n",
    "print(\"Data organized successfully!\")"
   ]
  }
 ],
 "metadata": {
  "kernelspec": {
   "display_name": "Python 3",
   "language": "python",
   "name": "python3"
  },
  "language_info": {
   "codemirror_mode": {
    "name": "ipython",
    "version": 3
   },
   "file_extension": ".py",
   "mimetype": "text/x-python",
   "name": "python",
   "nbconvert_exporter": "python",
   "pygments_lexer": "ipython3",
   "version": "3.10.0"
  }
 },
 "nbformat": 4,
 "nbformat_minor": 2
}
