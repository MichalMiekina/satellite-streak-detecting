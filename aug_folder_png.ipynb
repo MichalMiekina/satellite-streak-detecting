{
 "cells": [
  {
   "cell_type": "markdown",
   "metadata": {},
   "source": [
    "##  augmentation of grouped PNGs in folder, save origins and augs in new one"
   ]
  },
  {
   "cell_type": "code",
   "execution_count": 2,
   "metadata": {},
   "outputs": [
    {
     "name": "stdout",
     "output_type": "stream",
     "text": [
      "Processing complete. Outputs saved in './Data/fits_filtered2\\augmented'.\n"
     ]
    }
   ],
   "source": [
    "import os\n",
    "import csv\n",
    "from PIL import Image\n",
    "import shutil\n",
    "import random\n",
    "from augmentations import flip_image, rotate_and_zoom_image, adjust_brightness, add_noise\n",
    "\n",
    "def random_augmentation(img, used_augmentations):\n",
    "    augmentations = {\n",
    "        'horizontal': lambda img: flip_image(img, mode='horizontal'),\n",
    "        'vertical': lambda img: flip_image(img, mode='vertical'),\n",
    "        'diagonal': lambda img: flip_image(img, mode='diagonal'),\n",
    "        # 'rotate_zoom': lambda img: rotate_and_zoom_image(img, angle=8, zoom_factor=1.5),\n",
    "        # 'brightness': lambda img: adjust_brightness(img, factor=1.5),\n",
    "        # 'noise': lambda img: add_noise(img, noise_level=0.15)\n",
    "    }\n",
    "\n",
    "    available_augmentations = {name: func for name, func in augmentations.items() if name not in used_augmentations}\n",
    "    if not available_augmentations:\n",
    "        raise ValueError(\"No more unique augmentations available.\")\n",
    "    selected_augmentation = random.choice(list(available_augmentations.keys()))\n",
    "    used_augmentations.add(selected_augmentation)\n",
    "    return available_augmentations[selected_augmentation](img), used_augmentations\n",
    "\n",
    "# Read CSV and get streak labels\n",
    "def read_csv(csv_path):\n",
    "    streak_labels = {}\n",
    "    rows = []\n",
    "    with open(csv_path, newline='', encoding='utf-8') as csvfile:\n",
    "        reader = csv.DictReader(csvfile)\n",
    "        for row in reader:\n",
    "            streak_labels[row['output']] = int(row['label'])\n",
    "            rows.append(row)\n",
    "    return streak_labels, rows\n",
    "\n",
    "# Save the updated CSV\n",
    "def save_csv(output_csv_path, old_rows, new_rows, fieldnames):\n",
    "    with open(output_csv_path, 'w', newline='', encoding='utf-8') as csvfile:\n",
    "        writer = csv.DictWriter(csvfile, fieldnames=fieldnames)\n",
    "        writer.writeheader()\n",
    "        writer.writerows(old_rows)  # Write original CSV content\n",
    "        writer.writerows(new_rows)  # Add new rows for augmentations\n",
    "\n",
    "# Main processing function\n",
    "def process_images(input_folder, csv_path):\n",
    "    streak_labels, old_rows = read_csv(csv_path)\n",
    "\n",
    "    output_folder = os.path.join(input_folder, \"augmented\")\n",
    "    os.makedirs(output_folder, exist_ok=True)\n",
    "\n",
    "    # Prepare the output CSV\n",
    "    csv_name = os.path.basename(csv_path)\n",
    "    output_csv_path = os.path.join(output_folder, csv_name)\n",
    "    fieldnames = ['input', 'output', 'label']\n",
    "    new_rows = []\n",
    "\n",
    "    # Copy all original files to the output folder\n",
    "    for filename in os.listdir(input_folder):\n",
    "        if filename.lower().endswith('.png'):\n",
    "            file_path = os.path.join(input_folder, filename)\n",
    "            output_path = os.path.join(output_folder, filename)\n",
    "\n",
    "            # Copy original file\n",
    "            shutil.copy(file_path, output_path)\n",
    "\n",
    "            # Augment images if streaks are present\n",
    "            if streak_labels.get(filename, 0) == 1:\n",
    "                # Initialize a new set for each image\n",
    "                used_augmentations = set()\n",
    "\n",
    "                # Apply augmentations\n",
    "                augmentations = 3  # Number of unique augmentations per image\n",
    "                for iteration in range(1, augmentations + 1):\n",
    "                    img = Image.open(file_path)\n",
    "                    img_augmented, used_augmentations = random_augmentation(img, used_augmentations)\n",
    "\n",
    "                    augmented_filename = f\"{os.path.splitext(filename)[0]}_{iteration}.png\"\n",
    "                    augmented_output_path = os.path.join(output_folder, augmented_filename)\n",
    "                    img_augmented.save(augmented_output_path)\n",
    "\n",
    "                    # Add augmented file info to new rows\n",
    "                    new_rows.append({'input': filename, 'output': augmented_filename, 'label': 1})\n",
    "\n",
    "    # Save the updated CSV with old and new rows\n",
    "    save_csv(output_csv_path, old_rows, new_rows, fieldnames)\n",
    "    print(f\"Processing complete. Outputs saved in '{output_folder}'.\")\n",
    "\n",
    "input_folder = './Data/fits_filtered2'  \n",
    "csv_path = os.path.join(input_folder, 'dictionary_0.csv') \n",
    "process_images(input_folder, csv_path)\n"
   ]
  }
 ],
 "metadata": {
  "kernelspec": {
   "display_name": "Python 3",
   "language": "python",
   "name": "python3"
  },
  "language_info": {
   "codemirror_mode": {
    "name": "ipython",
    "version": 3
   },
   "file_extension": ".py",
   "mimetype": "text/x-python",
   "name": "python",
   "nbconvert_exporter": "python",
   "pygments_lexer": "ipython3",
   "version": "3.10.0"
  }
 },
 "nbformat": 4,
 "nbformat_minor": 2
}
