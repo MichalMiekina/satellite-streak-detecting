{
 "cells": [
  {
   "cell_type": "markdown",
   "metadata": {},
   "source": [
    "# Getting ra/dec out from fit image, necesarry for plate solving with PlateSolve2 app"
   ]
  },
  {
   "cell_type": "code",
   "execution_count": 1,
   "metadata": {},
   "outputs": [],
   "source": [
    "import numpy as np\n",
    "\n",
    "def degrees_to_radians(degrees):\n",
    "    radians = degrees * (np.pi / 180)\n",
    "    return radians"
   ]
  },
  {
   "cell_type": "code",
   "execution_count": 11,
   "metadata": {},
   "outputs": [
    {
     "name": "stdout",
     "output_type": "stream",
     "text": [
      "(3520, 4656)\n",
      "0.00594024341906842\n",
      "0.004490905677646228\n",
      "RA: 284.899347745353\n",
      "Dec: 63.3986637931034\n",
      "RA in radians:  4.972431654940693\n",
      "Dec in radians: 1.1065154245545714\n"
     ]
    }
   ],
   "source": [
    "from astropy.io import fits\n",
    "from astropy.wcs import WCS\n",
    "import os\n",
    "\n",
    "# Ścieżka do pliku FIT\n",
    "fit_file = 'tic-original.fit'\n",
    "apm_file = 'tic-original.apm'\n",
    "\n",
    "# Otwieranie pliku FIT\n",
    "with fits.open(fit_file) as hdul:\n",
    "\n",
    "    fitImageHeaderRA = hdul[0].header['RA']\n",
    "    fitImageHeaderDEC = hdul[0].header['DEC']\n",
    "\n",
    "    H = hdul[0].header\n",
    "    start_pix_scale = hdul[0].header['XPIXSZ ']\n",
    "\n",
    "    if 'BIN' in H:\n",
    "        start_pix_scale = H['BIN'] * start_pix_scale\n",
    "    if 'BINNING' in H:\n",
    "        start_pix_scale = H['BINNING'] * start_pix_scale\n",
    "    print(hdul[0].data.shape)\n",
    "    imSize = hdul[0].data.shape\n",
    "    # PS_xminutes = imSize[1] * start_pix_scale / 60\n",
    "    # PS_yminutes = imSize[0] * start_pix_scale / 60\n",
    "\n",
    "    # # PlateSolve2 data\n",
    "    # CCD_x_radians = PS_xminutes / 60 * np.pi / 180\n",
    "    # CCD_y_radians = PS_yminutes / 60 * np.pi / 180\n",
    "    PS_xseconds = imSize[1] / start_pix_scale\n",
    "    PS_yseconds = imSize[0] / start_pix_scale\n",
    "    # I am not sure if i should divide by 3.8 or multiplicate by 0.33, i think second one but i get better results with first one\n",
    "    # Because pixelsize in arcsecs we calculate by Formula:   (   Pixel Size   /   Telescope Focal Length   )   X 206.265  \n",
    "\n",
    "\n",
    "\n",
    "plateSolve2Path = \"E:\\suto\\PlateSolve2.28\\PlateSolve2.28\\PlateSolve2.exe\"\n",
    "RA_radians = degrees_to_radians(fitImageHeaderRA)\n",
    "DEC_radians = degrees_to_radians(fitImageHeaderDEC)\n",
    "CCD_x_radians = PS_xseconds * np.pi/(180*3600)\n",
    "CCD_y_radians = PS_yseconds * np.pi/(180*3600)\n",
    "\n",
    "# Wyświetlanie wyników\n",
    "print('RA:', fitImageHeaderRA)\n",
    "print('Dec:', fitImageHeaderDEC)\n",
    "\n",
    "# Wyświetlanie wyników\n",
    "print('RA in radians:', RA_radians)\n",
    "print('Dec  in radians:', DEC_radians)\n",
    "\n",
    "print('CCDx in radians:', CCD_x_radians)\n",
    "print('CCDy  in radians:', CCD_y_radians)\n",
    "\n",
    "\n",
    "os.system(f\"{plateSolve2Path} {RA_radians}, {DEC_radians},{CCD_x_radians},{CCD_y_radians},999,{fit_file},0\")\n"
   ]
  },
  {
   "cell_type": "code",
   "execution_count": 4,
   "metadata": {},
   "outputs": [
    {
     "name": "stdout",
     "output_type": "stream",
     "text": [
      "['4,97457946,1,10706741,1\\n', '0,31842,179,86,-0,99982,-0,00078,161\\n', 'Valid plate solution\\n']\n",
      "RA: 4.97457946\n",
      "DEC: 1.10706741\n",
      "Pixel Size: 0.31842\n",
      "Angle: 179.86\n"
     ]
    }
   ],
   "source": [
    "with open(apm_file) as f:\n",
    "    lines = f.readlines()\n",
    "    print(lines)\n",
    "\n",
    "# Odczytanie wartości RA (Right Ascension) i DEC (Declination)\n",
    "radec_line = lines[0].strip()\n",
    "radec_parts = radec_line.split(',')\n",
    "ra_value = float(radec_parts[0] + \".\"+radec_parts[1])   # Pierwsza część dla RA\n",
    "\n",
    "dec_value = float(radec_parts[2] + \".\"+radec_parts[3])  # Druga część dla DEC\n",
    "\n",
    "# Odczytanie wartości rozmiaru piksela i kąta\n",
    "second_line = lines[1].strip()\n",
    "second_line_parts = second_line.split(',')\n",
    "pixel_size_value = float(second_line_parts[0] + \".\" + second_line_parts[1])  # Pierwsza część dla rozmiaru piksela\n",
    "\n",
    "angle_value = float(second_line_parts[2] + \".\" + second_line_parts[3])  # Druga część dla kąta\n",
    "\n",
    "# Wypisanie odczytanych wartości\n",
    "print(f\"RA: {ra_value}\")\n",
    "print(f\"DEC: {dec_value}\")\n",
    "print(f\"Pixel Size: {pixel_size_value}\")\n",
    "print(f\"Angle: {angle_value}\")\n",
    "\n",
    "# kąt wydaje sie byc zgodny z obserwacjami i oczekiwaniami bo na astrometry obraz wyglada że ma odwróconą oś Y ale te pliki które uzywa tutaj program\n",
    "# gdy otwieram je fits liberatorem to ma osie dobre"
   ]
  }
 ],
 "metadata": {
  "kernelspec": {
   "display_name": "Python 3.10.0 64-bit",
   "language": "python",
   "name": "python3"
  },
  "language_info": {
   "codemirror_mode": {
    "name": "ipython",
    "version": 3
   },
   "file_extension": ".py",
   "mimetype": "text/x-python",
   "name": "python",
   "nbconvert_exporter": "python",
   "pygments_lexer": "ipython3",
   "version": "3.10.0"
  },
  "orig_nbformat": 4,
  "vscode": {
   "interpreter": {
    "hash": "369f2c481f4da34e4445cda3fffd2e751bd1c4d706f27375911949ba6bb62e1c"
   }
  }
 },
 "nbformat": 4,
 "nbformat_minor": 2
}
