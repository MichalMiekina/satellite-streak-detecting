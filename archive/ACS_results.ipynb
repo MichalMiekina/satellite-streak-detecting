{
 "cells": [
  {
   "cell_type": "markdown",
   "metadata": {},
   "source": [
    "# tic10"
   ]
  },
  {
   "cell_type": "code",
   "execution_count": null,
   "metadata": {},
   "outputs": [],
   "source": [
    "image_file = get_pkg_data_filename('./Data/fits/tic10.fit')\n",
    "image = fits.getdata(image_file, ext=0)\n",
    "image = image - np.nanmedian(image)\n",
    "image = block_reduce(image, 4, func=np.nansum)\n",
    "\n",
    "s = TrailFinder(image, processes=2,threshold=3,min_length=300, min_persistence=0.3, max_width=50)\n",
    "s.run_mrt()\n",
    "print(\"mrt sources\")\n",
    "s.find_mrt_sources()\n",
    "print(\"sources\")\n",
    "s.filter_sources(trim_catalog=True,plot_streak=False)\n",
    "s.make_mask()\n",
    "s.save_output()\n",
    "print(\"source list (filter_sources):\")\n",
    "display(s.source_list[s.source_list['persistence']>0.1])"
   ]
  },
  {
   "cell_type": "markdown",
   "metadata": {},
   "source": [
    "# tic11"
   ]
  },
  {
   "cell_type": "code",
   "execution_count": null,
   "metadata": {},
   "outputs": [],
   "source": [
    "image_file = get_pkg_data_filename('./Data/fits/tic11.fit')\n",
    "image = fits.getdata(image_file, ext=0)\n",
    "image = image - np.nanmedian(image)\n",
    "image = block_reduce(image, 4, func=np.nansum)\n",
    "\n",
    "s = TrailFinder(image, processes=2,threshold=3,min_length=300, min_persistence=0.3, max_width=50)\n",
    "s.run_mrt()\n",
    "print(\"mrt sources\")\n",
    "s.find_mrt_sources()\n",
    "print(\"sources\")\n",
    "s.filter_sources(trim_catalog=True,plot_streak=False)\n",
    "s.make_mask()\n",
    "s.save_output()\n",
    "print(\"source list (filter_sources):\")\n",
    "display(s.source_list[s.source_list['persistence']>0.1])"
   ]
  },
  {
   "cell_type": "markdown",
   "metadata": {},
   "source": [
    "# tic12, one very short and weakly visible streak"
   ]
  },
  {
   "cell_type": "code",
   "execution_count": null,
   "metadata": {},
   "outputs": [],
   "source": [
    "image_file = get_pkg_data_filename('./Data/fits/tic12.fit')\n",
    "image = fits.getdata(image_file, ext=0)\n",
    "image = image - np.nanmedian(image)\n",
    "image = block_reduce(image, 2, func=np.nansum)\n",
    "#bcs of very thin streak i have to set merging to 2 only and threshold 2. \n",
    "# mroeover it causes detecting 2 fake streaks so i need to add maxwidth 30\n",
    "#consider if its even worth to reduct merging for this\n",
    "s = TrailFinder(image, processes=2,threshold=2,min_length=100, min_persistence=0.3, max_width=30)\n",
    "s.run_mrt()\n",
    "print(\"mrt sources\")\n",
    "s.find_mrt_sources()\n",
    "print(\"sources\")\n",
    "s.filter_sources(trim_catalog=True,plot_streak=False)\n",
    "s.make_mask()\n",
    "s.save_output()\n",
    "print(\"source list (filter_sources):\")\n",
    "display(s.source_list[s.source_list['persistence']>0.1])"
   ]
  },
  {
   "cell_type": "code",
   "execution_count": null,
   "metadata": {},
   "outputs": [],
   "source": [
    "d\txcentroid\tycentroid\tfwhm\troundness\tpa\tmax_value\tflux\tmag\ttheta\trho\tendpoints\tstatus\tmean flux\twidth\tsnr\tpersistence\n",
    "int32\tfloat64\tfloat64\tfloat64\tfloat64\tfloat64\tfloat64\tfloat64\tfloat64\tfloat64\tfloat64\tfloat64[2,2]\tint32\tfloat64\tfloat64\tfloat64\tfloat64\n",
    "466\t217.06462372041034\t2380.8994765698835\t12.917267044975665\t0.7813285381336069\t89.70583729709927\t9.860960784989702\t1772.1973916537645\t-8.12128023255088\t108.53231186020517\t734.8994765698835\t-0.0 .. 0.0\t2\t13.282380933116077\t13.163416692906026\t2.145242357825511\t0.5"
   ]
  },
  {
   "cell_type": "markdown",
   "metadata": {},
   "source": [
    "# tic13"
   ]
  },
  {
   "cell_type": "code",
   "execution_count": null,
   "metadata": {},
   "outputs": [],
   "source": [
    "image_file = get_pkg_data_filename('./Data/fits/tic13.fit')\n",
    "image = fits.getdata(image_file, ext=0)\n",
    "image = image - np.nanmedian(image)\n",
    "image = block_reduce(image, 2, func=np.nansum)\n",
    "s = TrailFinder(image, processes=2,threshold=1,min_length=50, min_persistence=0.1, max_width=50)\n",
    "s.run_mrt() # event his config doesnt help\n",
    "print(\"mrt sources\")\n",
    "s.find_mrt_sources()\n",
    "print(\"sources\")\n",
    "s.filter_sources(trim_catalog=True,plot_streak=False) #plot_streak=False\n",
    "s.make_mask()\n",
    "s.save_output()\n",
    "print(\"source list (filter_sources):\")\n",
    "display(s.source_list[s.source_list['persistence']>0.1])"
   ]
  },
  {
   "cell_type": "markdown",
   "metadata": {},
   "source": [
    "# tic14"
   ]
  },
  {
   "cell_type": "code",
   "execution_count": null,
   "metadata": {},
   "outputs": [],
   "source": [
    "image_file = get_pkg_data_filename('./Data/fits/tic14.fit')\n",
    "image = fits.getdata(image_file, ext=0)\n",
    "image = image - np.nanmedian(image)\n",
    "image = block_reduce(image, 2, func=np.nansum)\n",
    "\n",
    "s = TrailFinder(image, processes=2,threshold=1,min_length=100, min_persistence=0.1, max_width=50)\n",
    "# this config doesnt detect my streak\n",
    "s.run_mrt()\n",
    "print(\"mrt sources\")\n",
    "s.find_mrt_sources()\n",
    "print(\"sources\")\n",
    "s.filter_sources(trim_catalog=True,plot_streak=False) #plot_streak=False\n",
    "s.make_mask()\n",
    "s.save_output()\n",
    "print(\"source list (filter_sources):\")\n",
    "display(s.source_list[s.source_list['persistence']>0.1])"
   ]
  },
  {
   "cell_type": "markdown",
   "metadata": {},
   "source": [
    "# tic15"
   ]
  },
  {
   "cell_type": "code",
   "execution_count": null,
   "metadata": {},
   "outputs": [],
   "source": [
    "image_file = get_pkg_data_filename('./Data/fits/tic15.fit')\n",
    "image = fits.getdata(image_file, ext=0)\n",
    "image = image - np.nanmedian(image)\n",
    "image = block_reduce(image, 2, func=np.nansum)\n",
    "\n",
    "s = TrailFinder(image, processes=2,threshold=3,min_length=250, min_persistence=0.2 , max_width=30)\n",
    "\n",
    "s.run_mrt()\n",
    "print(\"mrt sources\")\n",
    "s.find_mrt_sources()\n",
    "print(\"sources\")\n",
    "s.filter_sources(trim_catalog=True,plot_streak=False) #plot_streak=False\n",
    "s.make_mask()\n",
    "s.save_output()\n",
    "print(\"source list (filter_sources):\")\n",
    "display(s.source_list[s.source_list['persistence']>0.1])"
   ]
  },
  {
   "cell_type": "code",
   "execution_count": null,
   "metadata": {},
   "outputs": [],
   "source": [
    "#id\txcentroid\tycentroid\tfwhm\troundness\tpa\tmax_value\tflux\tmag\ttheta\trho\tendpoints\tstatus\tmean flux\twidth\tsnr\tpersistence\n",
    "#6\t146.48684627896344\t1088.480406977171\t12.943023118582696\t0.8344973181427189\t91.80479391514723\t17.056455228575768\t1267.278252498151\t-7.757179955237266\t73.24342313948172\t-557.519593022829\t0.0 .. 1759.0\t2\t17.336478569546582\t19.464452222086436\t8.821210824860467\t0.375"
   ]
  },
  {
   "cell_type": "markdown",
   "metadata": {},
   "source": [
    "# tic16"
   ]
  },
  {
   "cell_type": "code",
   "execution_count": null,
   "metadata": {},
   "outputs": [],
   "source": [
    "image_file = get_pkg_data_filename('./Data/fits/tic16.fit')\n",
    "image = fits.getdata(image_file, ext=0)\n",
    "image = image - np.nanmedian(image)\n",
    "image = block_reduce(image, 4, func=np.nansum)\n",
    "\n",
    "s = TrailFinder(image, processes=2,threshold=3,min_length=250, min_persistence=0.2 , max_width=30)\n",
    "\n",
    "s.run_mrt()\n",
    "print(\"mrt sources\")\n",
    "s.find_mrt_sources()\n",
    "print(\"sources\")\n",
    "s.filter_sources(trim_catalog=True,plot_streak=False) #plot_streak=False\n",
    "s.make_mask()\n",
    "s.save_output()\n",
    "print(\"source list (filter_sources):\")\n",
    "display(s.source_list[s.source_list['persistence']>0.1])"
   ]
  },
  {
   "cell_type": "code",
   "execution_count": null,
   "metadata": {},
   "outputs": [],
   "source": [
    "# 13\t232.92535340411013\t889.6562354010139\t12.277604187997484\t0.7907523672912121\t89.25349682714581\t139.18975586458447\t3817.0606593945663\t-8.954322654150328\t116.46267670205506\t66.65623540101387\t-0.0 .. 75.59006544882948\t2\t1388.6135825889016\t5.692258883873137\t152.54659857989193\t1.0"
   ]
  },
  {
   "cell_type": "markdown",
   "metadata": {},
   "source": [
    "# tic17, two parallel normal streaks"
   ]
  },
  {
   "cell_type": "code",
   "execution_count": null,
   "metadata": {},
   "outputs": [],
   "source": [
    "image_file = get_pkg_data_filename('./Data/fits/tic17.fit')\n",
    "image = fits.getdata(image_file, ext=0)\n",
    "image = image - np.nanmedian(image)\n",
    "image = block_reduce(image, 4, func=np.nansum)\n",
    "# necesarry low reduction of image for not wide streaks\n",
    "s = TrailFinder(image, processes=2,threshold=5,min_length=200, min_persistence=0.3, max_width=50)\n",
    "s.run_mrt()\n",
    "print(\"mrt sources\")\n",
    "s.find_mrt_sources()\n",
    "print(\"sources\")\n",
    "s.filter_sources(trim_catalog=False,plot_streak=False)\n",
    "s.make_mask()\n",
    "s.save_output()\n",
    "print(\"source list (filter_sources):\")\n",
    "display(s.source_list[s.source_list['persistence']>0.1])"
   ]
  },
  {
   "cell_type": "markdown",
   "metadata": {},
   "source": [
    "# tic27, single very thin streak"
   ]
  },
  {
   "cell_type": "code",
   "execution_count": null,
   "metadata": {},
   "outputs": [],
   "source": [
    "image_file = get_pkg_data_filename('./Data/fits/tic28.fit')\n",
    "image = fits.getdata(image_file, ext=0)\n",
    "image = image - np.nanmedian(image)\n",
    "image = block_reduce(image, 4, func=np.nansum)\n",
    "# streak is very thin so we need to have low reduction or threshold (threshold like 1 or reduction like 2)\n",
    "#but snr is 14 so idk why threshold reduction helps this much\n",
    "s = TrailFinder(image, processes=2,threshold=1,min_length=300, min_persistence=0.3, max_width=50)\n",
    "s.run_mrt()\n",
    "print(\"mrt sources\")\n",
    "s.find_mrt_sources()\n",
    "print(\"sources\")\n",
    "s.filter_sources(trim_catalog=False,plot_streak=True)\n",
    "s.make_mask()\n",
    "s.save_output()\n",
    "print(\"source list (filter_sources):\")\n",
    "display(s.source_list[s.source_list['persistence']>0.1])"
   ]
  },
  {
   "cell_type": "markdown",
   "metadata": {},
   "source": [
    "# tic28, wide single streak"
   ]
  },
  {
   "cell_type": "code",
   "execution_count": null,
   "metadata": {},
   "outputs": [],
   "source": [
    "image_file = get_pkg_data_filename('./Data/fits/tic28.fit')\n",
    "image = fits.getdata(image_file, ext=0)\n",
    "image = image - np.nanmedian(image)\n",
    "image = block_reduce(image, 8, func=np.nansum)\n",
    "\n",
    "s = TrailFinder(image, processes=2,threshold=5,min_length=200, min_persistence=0.2)\n",
    "s.run_mrt()\n",
    "print(\"mrt sources\")\n",
    "s.find_mrt_sources()\n",
    "print(\"sources\")\n",
    "s.filter_sources(trim_catalog=False,plot_streak=True)\n",
    "s.make_mask()\n",
    "s.save_output()\n",
    "print(\"source list (filter_sources):\")\n",
    "display(s.source_list[s.source_list['persistence']>0.1])"
   ]
  },
  {
   "cell_type": "code",
   "execution_count": null,
   "metadata": {},
   "outputs": [],
   "source": [
    "# 1\t0.0\t196.63076923076923\t0.8035759284750895\t1.0\t90.0\t0.7031237401234838\t1.1147083684884498\t-0.11790315383609798\t0.0\t-214.86923076923077\t75.63076923076923 .. 439.0\t2\t4013.756719545768\t11.795100068386347\t11.676550638342617\t0.5"
   ]
  }
 ],
 "metadata": {
  "kernelspec": {
   "display_name": "Python 3.10.0 64-bit",
   "language": "python",
   "name": "python3"
  },
  "language_info": {
   "codemirror_mode": {
    "name": "ipython",
    "version": 3
   },
   "file_extension": ".py",
   "mimetype": "text/x-python",
   "name": "python",
   "nbconvert_exporter": "python",
   "pygments_lexer": "ipython3",
   "version": "3.10.0"
  },
  "orig_nbformat": 4,
  "vscode": {
   "interpreter": {
    "hash": "369f2c481f4da34e4445cda3fffd2e751bd1c4d706f27375911949ba6bb62e1c"
   }
  }
 },
 "nbformat": 4,
 "nbformat_minor": 2
}
