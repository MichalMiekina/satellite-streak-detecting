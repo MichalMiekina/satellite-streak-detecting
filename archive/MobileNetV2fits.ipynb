{
 "cells": [
  {
   "cell_type": "code",
   "execution_count": 2,
   "metadata": {},
   "outputs": [
    {
     "name": "stdout",
     "output_type": "stream",
     "text": [
      "0 .: CNN Model Metrics: 0.4230769230769231 0.4583333333333333 0.8461538461538461 0.5945945945945945\n",
      "1 .: CNN Model Metrics: 0.46153846153846156 0.4782608695652174 0.8461538461538461 0.6111111111111112\n",
      "2 .: CNN Model Metrics: 0.5 0.5 1.0 0.6666666666666666\n",
      "3 .: CNN Model Metrics: 0.5 0.5 1.0 0.6666666666666666\n",
      "4 .: CNN Model Metrics: 0.4230769230769231 0.4583333333333333 0.8461538461538461 0.5945945945945945\n",
      "5 .: CNN Model Metrics: 0.5 0.5 1.0 0.6666666666666666\n",
      "6 .: CNN Model Metrics: 0.5384615384615384 1.0 0.07692307692307693 0.14285714285714288\n"
     ]
    },
    {
     "name": "stderr",
     "output_type": "stream",
     "text": [
      "c:\\Python310\\lib\\site-packages\\sklearn\\metrics\\_classification.py:1318: UndefinedMetricWarning: Precision is ill-defined and being set to 0.0 due to no predicted samples. Use `zero_division` parameter to control this behavior.\n",
      "  _warn_prf(average, modifier, msg_start, len(result))\n"
     ]
    },
    {
     "name": "stdout",
     "output_type": "stream",
     "text": [
      "7 .: CNN Model Metrics: 0.5 0.0 0.0 0.0\n",
      "8 .: CNN Model Metrics: 0.5 0.5 1.0 0.6666666666666666\n",
      "9 .: CNN Model Metrics: 0.46153846153846156 0.47368421052631576 0.6923076923076923 0.5625\n"
     ]
    },
    {
     "name": "stderr",
     "output_type": "stream",
     "text": [
      "c:\\Python310\\lib\\site-packages\\sklearn\\metrics\\_classification.py:1318: UndefinedMetricWarning: Precision is ill-defined and being set to 0.0 due to no predicted samples. Use `zero_division` parameter to control this behavior.\n",
      "  _warn_prf(average, modifier, msg_start, len(result))\n"
     ]
    },
    {
     "name": "stdout",
     "output_type": "stream",
     "text": [
      "10 .: CNN Model Metrics: 0.5 0.0 0.0 0.0\n"
     ]
    },
    {
     "name": "stderr",
     "output_type": "stream",
     "text": [
      "c:\\Python310\\lib\\site-packages\\sklearn\\metrics\\_classification.py:1318: UndefinedMetricWarning: Precision is ill-defined and being set to 0.0 due to no predicted samples. Use `zero_division` parameter to control this behavior.\n",
      "  _warn_prf(average, modifier, msg_start, len(result))\n"
     ]
    },
    {
     "name": "stdout",
     "output_type": "stream",
     "text": [
      "11 .: CNN Model Metrics: 0.5 0.0 0.0 0.0\n",
      "12 .: CNN Model Metrics: 0.6538461538461539 1.0 0.3076923076923077 0.47058823529411764\n"
     ]
    },
    {
     "name": "stderr",
     "output_type": "stream",
     "text": [
      "c:\\Python310\\lib\\site-packages\\sklearn\\metrics\\_classification.py:1318: UndefinedMetricWarning: Precision is ill-defined and being set to 0.0 due to no predicted samples. Use `zero_division` parameter to control this behavior.\n",
      "  _warn_prf(average, modifier, msg_start, len(result))\n"
     ]
    },
    {
     "name": "stdout",
     "output_type": "stream",
     "text": [
      "13 .: CNN Model Metrics: 0.5 0.0 0.0 0.0\n",
      "14 .: CNN Model Metrics: 0.5 0.5 1.0 0.6666666666666666\n",
      "15 .: CNN Model Metrics: 0.5 0.5 1.0 0.6666666666666666\n",
      "16 .: CNN Model Metrics: 0.5 0.5 1.0 0.6666666666666666\n",
      "17 .: CNN Model Metrics: 0.5 0.5 1.0 0.6666666666666666\n",
      "18 .: CNN Model Metrics: 0.7307692307692307 0.6875 0.8461538461538461 0.7586206896551724\n",
      "19 .: CNN Model Metrics: 0.6153846153846154 0.8 0.3076923076923077 0.4444444444444444\n",
      "20 .: CNN Model Metrics: 0.5 0.5 1.0 0.6666666666666666\n"
     ]
    },
    {
     "name": "stderr",
     "output_type": "stream",
     "text": [
      "c:\\Python310\\lib\\site-packages\\sklearn\\metrics\\_classification.py:1318: UndefinedMetricWarning: Precision is ill-defined and being set to 0.0 due to no predicted samples. Use `zero_division` parameter to control this behavior.\n",
      "  _warn_prf(average, modifier, msg_start, len(result))\n"
     ]
    },
    {
     "name": "stdout",
     "output_type": "stream",
     "text": [
      "21 .: CNN Model Metrics: 0.5 0.0 0.0 0.0\n",
      "22 .: CNN Model Metrics: 0.46153846153846156 0.42857142857142855 0.23076923076923078 0.3\n",
      "23 .: CNN Model Metrics: 0.6153846153846154 0.8 0.3076923076923077 0.4444444444444444\n",
      "24 .: CNN Model Metrics: 0.5 0.5 1.0 0.6666666666666666\n",
      "25 .: CNN Model Metrics: 0.5 0.5 1.0 0.6666666666666666\n",
      "26 .: CNN Model Metrics: 0.5769230769230769 0.6 0.46153846153846156 0.5217391304347826\n"
     ]
    },
    {
     "name": "stderr",
     "output_type": "stream",
     "text": [
      "c:\\Python310\\lib\\site-packages\\sklearn\\metrics\\_classification.py:1318: UndefinedMetricWarning: Precision is ill-defined and being set to 0.0 due to no predicted samples. Use `zero_division` parameter to control this behavior.\n",
      "  _warn_prf(average, modifier, msg_start, len(result))\n"
     ]
    },
    {
     "name": "stdout",
     "output_type": "stream",
     "text": [
      "27 .: CNN Model Metrics: 0.5 0.0 0.0 0.0\n",
      "28 .: CNN Model Metrics: 0.5 0.5 1.0 0.6666666666666666\n",
      "29 .: CNN Model Metrics: 0.5 0.5 1.0 0.6666666666666666\n",
      "30 .: CNN Model Metrics: 0.5769230769230769 0.5555555555555556 0.7692307692307693 0.6451612903225806\n",
      "31 .: CNN Model Metrics: 0.5 0.5 1.0 0.6666666666666666\n",
      "32 .: CNN Model Metrics: 0.5384615384615384 0.6 0.23076923076923078 0.33333333333333337\n",
      "33 .: CNN Model Metrics: 0.5 0.5 1.0 0.6666666666666666\n",
      "34 .: CNN Model Metrics: 0.46153846153846156 0.45454545454545453 0.38461538461538464 0.41666666666666663\n",
      "35 .: CNN Model Metrics: 0.5384615384615384 0.5555555555555556 0.38461538461538464 0.4545454545454546\n",
      "36 .: CNN Model Metrics: 0.6923076923076923 0.7777777777777778 0.5384615384615384 0.6363636363636364\n"
     ]
    },
    {
     "name": "stderr",
     "output_type": "stream",
     "text": [
      "c:\\Python310\\lib\\site-packages\\sklearn\\metrics\\_classification.py:1318: UndefinedMetricWarning: Precision is ill-defined and being set to 0.0 due to no predicted samples. Use `zero_division` parameter to control this behavior.\n",
      "  _warn_prf(average, modifier, msg_start, len(result))\n"
     ]
    },
    {
     "name": "stdout",
     "output_type": "stream",
     "text": [
      "37 .: CNN Model Metrics: 0.5 0.0 0.0 0.0\n"
     ]
    },
    {
     "name": "stderr",
     "output_type": "stream",
     "text": [
      "c:\\Python310\\lib\\site-packages\\sklearn\\metrics\\_classification.py:1318: UndefinedMetricWarning: Precision is ill-defined and being set to 0.0 due to no predicted samples. Use `zero_division` parameter to control this behavior.\n",
      "  _warn_prf(average, modifier, msg_start, len(result))\n"
     ]
    },
    {
     "name": "stdout",
     "output_type": "stream",
     "text": [
      "38 .: CNN Model Metrics: 0.5 0.0 0.0 0.0\n",
      "39 .: CNN Model Metrics: 0.5 0.5 1.0 0.6666666666666666\n",
      "40 .: CNN Model Metrics: 0.5 0.5 1.0 0.6666666666666666\n",
      "41 .: CNN Model Metrics: 0.6538461538461539 0.8333333333333334 0.38461538461538464 0.5263157894736842\n",
      "42 .: CNN Model Metrics: 0.5 0.5 1.0 0.6666666666666666\n"
     ]
    },
    {
     "name": "stderr",
     "output_type": "stream",
     "text": [
      "c:\\Python310\\lib\\site-packages\\sklearn\\metrics\\_classification.py:1318: UndefinedMetricWarning: Precision is ill-defined and being set to 0.0 due to no predicted samples. Use `zero_division` parameter to control this behavior.\n",
      "  _warn_prf(average, modifier, msg_start, len(result))\n"
     ]
    },
    {
     "name": "stdout",
     "output_type": "stream",
     "text": [
      "43 .: CNN Model Metrics: 0.5 0.0 0.0 0.0\n",
      "44 .: CNN Model Metrics: 0.5 0.5 1.0 0.6666666666666666\n"
     ]
    },
    {
     "name": "stderr",
     "output_type": "stream",
     "text": [
      "c:\\Python310\\lib\\site-packages\\sklearn\\metrics\\_classification.py:1318: UndefinedMetricWarning: Precision is ill-defined and being set to 0.0 due to no predicted samples. Use `zero_division` parameter to control this behavior.\n",
      "  _warn_prf(average, modifier, msg_start, len(result))\n"
     ]
    },
    {
     "name": "stdout",
     "output_type": "stream",
     "text": [
      "45 .: CNN Model Metrics: 0.5 0.0 0.0 0.0\n",
      "46 .: CNN Model Metrics: 0.5 0.5 0.15384615384615385 0.23529411764705882\n",
      "47 .: CNN Model Metrics: 0.5 0.5 1.0 0.6666666666666666\n",
      "48 .: CNN Model Metrics: 0.5 0.5 1.0 0.6666666666666666\n",
      "49 .: CNN Model Metrics: 0.4230769230769231 0.42857142857142855 0.46153846153846156 0.4444444444444445\n"
     ]
    },
    {
     "name": "stderr",
     "output_type": "stream",
     "text": [
      "c:\\Python310\\lib\\site-packages\\sklearn\\metrics\\_classification.py:1318: UndefinedMetricWarning: Precision is ill-defined and being set to 0.0 due to no predicted samples. Use `zero_division` parameter to control this behavior.\n",
      "  _warn_prf(average, modifier, msg_start, len(result))\n"
     ]
    },
    {
     "name": "stdout",
     "output_type": "stream",
     "text": [
      "50 .: CNN Model Metrics: 0.5 0.0 0.0 0.0\n"
     ]
    },
    {
     "name": "stderr",
     "output_type": "stream",
     "text": [
      "c:\\Python310\\lib\\site-packages\\sklearn\\metrics\\_classification.py:1318: UndefinedMetricWarning: Precision is ill-defined and being set to 0.0 due to no predicted samples. Use `zero_division` parameter to control this behavior.\n",
      "  _warn_prf(average, modifier, msg_start, len(result))\n"
     ]
    },
    {
     "name": "stdout",
     "output_type": "stream",
     "text": [
      "51 .: CNN Model Metrics: 0.5 0.0 0.0 0.0\n",
      "52 .: CNN Model Metrics: 0.5 0.5 1.0 0.6666666666666666\n",
      "53 .: CNN Model Metrics: 0.5 0.5 1.0 0.6666666666666666\n"
     ]
    },
    {
     "name": "stderr",
     "output_type": "stream",
     "text": [
      "c:\\Python310\\lib\\site-packages\\sklearn\\metrics\\_classification.py:1318: UndefinedMetricWarning: Precision is ill-defined and being set to 0.0 due to no predicted samples. Use `zero_division` parameter to control this behavior.\n",
      "  _warn_prf(average, modifier, msg_start, len(result))\n"
     ]
    },
    {
     "name": "stdout",
     "output_type": "stream",
     "text": [
      "54 .: CNN Model Metrics: 0.5 0.0 0.0 0.0\n",
      "55 .: CNN Model Metrics: 0.6538461538461539 0.6111111111111112 0.8461538461538461 0.7096774193548387\n",
      "56 .: CNN Model Metrics: 0.5 0.5 1.0 0.6666666666666666\n"
     ]
    },
    {
     "name": "stderr",
     "output_type": "stream",
     "text": [
      "c:\\Python310\\lib\\site-packages\\sklearn\\metrics\\_classification.py:1318: UndefinedMetricWarning: Precision is ill-defined and being set to 0.0 due to no predicted samples. Use `zero_division` parameter to control this behavior.\n",
      "  _warn_prf(average, modifier, msg_start, len(result))\n"
     ]
    },
    {
     "name": "stdout",
     "output_type": "stream",
     "text": [
      "57 .: CNN Model Metrics: 0.5 0.0 0.0 0.0\n",
      "58 .: CNN Model Metrics: 0.46153846153846156 0.48 0.9230769230769231 0.631578947368421\n"
     ]
    },
    {
     "name": "stderr",
     "output_type": "stream",
     "text": [
      "c:\\Python310\\lib\\site-packages\\sklearn\\metrics\\_classification.py:1318: UndefinedMetricWarning: Precision is ill-defined and being set to 0.0 due to no predicted samples. Use `zero_division` parameter to control this behavior.\n",
      "  _warn_prf(average, modifier, msg_start, len(result))\n"
     ]
    },
    {
     "name": "stdout",
     "output_type": "stream",
     "text": [
      "59 .: CNN Model Metrics: 0.5 0.0 0.0 0.0\n",
      "60 .: CNN Model Metrics: 0.5384615384615384 0.5555555555555556 0.38461538461538464 0.4545454545454546\n",
      "61 .: CNN Model Metrics: 0.5 0.5 1.0 0.6666666666666666\n",
      "62 .: CNN Model Metrics: 0.4230769230769231 0.45454545454545453 0.7692307692307693 0.5714285714285714\n"
     ]
    },
    {
     "name": "stderr",
     "output_type": "stream",
     "text": [
      "c:\\Python310\\lib\\site-packages\\sklearn\\metrics\\_classification.py:1318: UndefinedMetricWarning: Precision is ill-defined and being set to 0.0 due to no predicted samples. Use `zero_division` parameter to control this behavior.\n",
      "  _warn_prf(average, modifier, msg_start, len(result))\n"
     ]
    },
    {
     "name": "stdout",
     "output_type": "stream",
     "text": [
      "63 .: CNN Model Metrics: 0.5 0.0 0.0 0.0\n",
      "64 .: CNN Model Metrics: 0.46153846153846156 0.48 0.9230769230769231 0.631578947368421\n"
     ]
    },
    {
     "name": "stderr",
     "output_type": "stream",
     "text": [
      "c:\\Python310\\lib\\site-packages\\sklearn\\metrics\\_classification.py:1318: UndefinedMetricWarning: Precision is ill-defined and being set to 0.0 due to no predicted samples. Use `zero_division` parameter to control this behavior.\n",
      "  _warn_prf(average, modifier, msg_start, len(result))\n"
     ]
    },
    {
     "name": "stdout",
     "output_type": "stream",
     "text": [
      "65 .: CNN Model Metrics: 0.5 0.0 0.0 0.0\n"
     ]
    },
    {
     "name": "stderr",
     "output_type": "stream",
     "text": [
      "c:\\Python310\\lib\\site-packages\\sklearn\\metrics\\_classification.py:1318: UndefinedMetricWarning: Precision is ill-defined and being set to 0.0 due to no predicted samples. Use `zero_division` parameter to control this behavior.\n",
      "  _warn_prf(average, modifier, msg_start, len(result))\n"
     ]
    },
    {
     "name": "stdout",
     "output_type": "stream",
     "text": [
      "66 .: CNN Model Metrics: 0.5 0.0 0.0 0.0\n"
     ]
    },
    {
     "name": "stderr",
     "output_type": "stream",
     "text": [
      "c:\\Python310\\lib\\site-packages\\sklearn\\metrics\\_classification.py:1318: UndefinedMetricWarning: Precision is ill-defined and being set to 0.0 due to no predicted samples. Use `zero_division` parameter to control this behavior.\n",
      "  _warn_prf(average, modifier, msg_start, len(result))\n"
     ]
    },
    {
     "name": "stdout",
     "output_type": "stream",
     "text": [
      "67 .: CNN Model Metrics: 0.5 0.0 0.0 0.0\n",
      "68 .: CNN Model Metrics: 0.5 0.5 1.0 0.6666666666666666\n",
      "69 .: CNN Model Metrics: 0.38461538461538464 0.42857142857142855 0.6923076923076923 0.5294117647058824\n",
      "70 .: CNN Model Metrics: 0.46153846153846156 0.4782608695652174 0.8461538461538461 0.6111111111111112\n",
      "71 .: CNN Model Metrics: 0.5769230769230769 0.55 0.8461538461538461 0.6666666666666667\n"
     ]
    },
    {
     "name": "stderr",
     "output_type": "stream",
     "text": [
      "c:\\Python310\\lib\\site-packages\\sklearn\\metrics\\_classification.py:1318: UndefinedMetricWarning: Precision is ill-defined and being set to 0.0 due to no predicted samples. Use `zero_division` parameter to control this behavior.\n",
      "  _warn_prf(average, modifier, msg_start, len(result))\n"
     ]
    },
    {
     "name": "stdout",
     "output_type": "stream",
     "text": [
      "72 .: CNN Model Metrics: 0.5 0.0 0.0 0.0\n",
      "73 .: CNN Model Metrics: 0.46153846153846156 0.47619047619047616 0.7692307692307693 0.588235294117647\n",
      "74 .: CNN Model Metrics: 0.5 0.5 1.0 0.6666666666666666\n"
     ]
    },
    {
     "name": "stderr",
     "output_type": "stream",
     "text": [
      "c:\\Python310\\lib\\site-packages\\sklearn\\metrics\\_classification.py:1318: UndefinedMetricWarning: Precision is ill-defined and being set to 0.0 due to no predicted samples. Use `zero_division` parameter to control this behavior.\n",
      "  _warn_prf(average, modifier, msg_start, len(result))\n"
     ]
    },
    {
     "name": "stdout",
     "output_type": "stream",
     "text": [
      "75 .: CNN Model Metrics: 0.5 0.0 0.0 0.0\n"
     ]
    },
    {
     "name": "stderr",
     "output_type": "stream",
     "text": [
      "c:\\Python310\\lib\\site-packages\\sklearn\\metrics\\_classification.py:1318: UndefinedMetricWarning: Precision is ill-defined and being set to 0.0 due to no predicted samples. Use `zero_division` parameter to control this behavior.\n",
      "  _warn_prf(average, modifier, msg_start, len(result))\n"
     ]
    },
    {
     "name": "stdout",
     "output_type": "stream",
     "text": [
      "76 .: CNN Model Metrics: 0.5 0.0 0.0 0.0\n",
      "77 .: CNN Model Metrics: 0.5 0.5 1.0 0.6666666666666666\n",
      "78 .: CNN Model Metrics: 0.46153846153846156 0.4 0.15384615384615385 0.2222222222222222\n",
      "79 .: CNN Model Metrics: 0.5 0.5 1.0 0.6666666666666666\n",
      "80 .: CNN Model Metrics: 0.5 0.5 1.0 0.6666666666666666\n",
      "81 .: CNN Model Metrics: 0.38461538461538464 0.42857142857142855 0.6923076923076923 0.5294117647058824\n",
      "82 .: CNN Model Metrics: 0.4230769230769231 0.45454545454545453 0.7692307692307693 0.5714285714285714\n"
     ]
    },
    {
     "name": "stderr",
     "output_type": "stream",
     "text": [
      "c:\\Python310\\lib\\site-packages\\sklearn\\metrics\\_classification.py:1318: UndefinedMetricWarning: Precision is ill-defined and being set to 0.0 due to no predicted samples. Use `zero_division` parameter to control this behavior.\n",
      "  _warn_prf(average, modifier, msg_start, len(result))\n"
     ]
    },
    {
     "name": "stdout",
     "output_type": "stream",
     "text": [
      "83 .: CNN Model Metrics: 0.5 0.0 0.0 0.0\n",
      "84 .: CNN Model Metrics: 0.4230769230769231 0.42857142857142855 0.46153846153846156 0.4444444444444445\n",
      "85 .: CNN Model Metrics: 0.6923076923076923 1.0 0.38461538461538464 0.5555555555555556\n"
     ]
    },
    {
     "name": "stderr",
     "output_type": "stream",
     "text": [
      "c:\\Python310\\lib\\site-packages\\sklearn\\metrics\\_classification.py:1318: UndefinedMetricWarning: Precision is ill-defined and being set to 0.0 due to no predicted samples. Use `zero_division` parameter to control this behavior.\n",
      "  _warn_prf(average, modifier, msg_start, len(result))\n"
     ]
    },
    {
     "name": "stdout",
     "output_type": "stream",
     "text": [
      "86 .: CNN Model Metrics: 0.5 0.0 0.0 0.0\n",
      "87 .: CNN Model Metrics: 0.5 0.5 1.0 0.6666666666666666\n",
      "88 .: CNN Model Metrics: 0.5384615384615384 1.0 0.07692307692307693 0.14285714285714288\n",
      "89 .: CNN Model Metrics: 0.4230769230769231 0.4583333333333333 0.8461538461538461 0.5945945945945945\n",
      "90 .: CNN Model Metrics: 0.5 0.5 1.0 0.6666666666666666\n",
      "91 .: CNN Model Metrics: 0.4230769230769231 0.4166666666666667 0.38461538461538464 0.4\n",
      "92 .: CNN Model Metrics: 0.5384615384615384 0.5384615384615384 0.5384615384615384 0.5384615384615384\n",
      "93 .: CNN Model Metrics: 0.5769230769230769 1.0 0.15384615384615385 0.2666666666666667\n"
     ]
    },
    {
     "name": "stderr",
     "output_type": "stream",
     "text": [
      "c:\\Python310\\lib\\site-packages\\sklearn\\metrics\\_classification.py:1318: UndefinedMetricWarning: Precision is ill-defined and being set to 0.0 due to no predicted samples. Use `zero_division` parameter to control this behavior.\n",
      "  _warn_prf(average, modifier, msg_start, len(result))\n"
     ]
    },
    {
     "name": "stdout",
     "output_type": "stream",
     "text": [
      "94 .: CNN Model Metrics: 0.5 0.0 0.0 0.0\n",
      "95 .: CNN Model Metrics: 0.5384615384615384 1.0 0.07692307692307693 0.14285714285714288\n"
     ]
    },
    {
     "name": "stderr",
     "output_type": "stream",
     "text": [
      "c:\\Python310\\lib\\site-packages\\sklearn\\metrics\\_classification.py:1318: UndefinedMetricWarning: Precision is ill-defined and being set to 0.0 due to no predicted samples. Use `zero_division` parameter to control this behavior.\n",
      "  _warn_prf(average, modifier, msg_start, len(result))\n"
     ]
    },
    {
     "name": "stdout",
     "output_type": "stream",
     "text": [
      "96 .: CNN Model Metrics: 0.5 0.0 0.0 0.0\n",
      "97 .: CNN Model Metrics: 0.46153846153846156 0.48 0.9230769230769231 0.631578947368421\n",
      "98 .: CNN Model Metrics: 0.5 0.5 1.0 0.6666666666666666\n",
      "99 .: CNN Model Metrics: 0.5769230769230769 1.0 0.15384615384615385 0.2666666666666667\n",
      "Model metrics saved to: model_metrics_mobilenetv2_2024-04-17_17-23-06.csv\n"
     ]
    }
   ],
   "source": [
    "import cv2\n",
    "import numpy as np\n",
    "import os\n",
    "import pandas as pd\n",
    "from astropy.io import fits\n",
    "from tensorflow.keras.preprocessing import image\n",
    "from tensorflow.keras.applications import MobileNetV2\n",
    "from tensorflow.keras.layers import Dense, GlobalAveragePooling2D\n",
    "from tensorflow.keras.models import Model\n",
    "from tensorflow.keras.optimizers import Adam\n",
    "from datetime import datetime\n",
    "from sklearn.metrics import precision_score, recall_score, f1_score\n",
    "\n",
    "def calculate_metrics(stats_df):\n",
    "    correct_predictions = stats_df[stats_df['ground_truth'] == stats_df['cnn_prediction']]\n",
    "    accuracy = len(correct_predictions) / len(stats_df)\n",
    "    precision = precision_score(stats_df['ground_truth'], stats_df['cnn_prediction'])\n",
    "    recall = recall_score(stats_df['ground_truth'], stats_df['cnn_prediction'])\n",
    "    f1 = f1_score(stats_df['ground_truth'], stats_df['cnn_prediction'])\n",
    "    return accuracy, precision, recall, f1\n",
    "\n",
    "def serialize_model(model, accuracy):\n",
    "    if accuracy >= 0.80:\n",
    "        current_datetime = datetime.now().strftime(\"%Y-%m-%d_%H-%M-%S\")\n",
    "        model_filename = f\"trained_model_{current_datetime}.h5\"\n",
    "        model.save(model_filename)\n",
    "        print(\"Model serialized successfully. Model saved as:\", model_filename)\n",
    "        return model_filename\n",
    "    else:\n",
    "        return None\n",
    "\n",
    "# Function to preprocess FIT image\n",
    "def preprocess_fit(image_path):\n",
    "    with fits.open(image_path) as hdul:\n",
    "        image_data = hdul[0].data.astype(np.uint8)\n",
    "        resized_image = cv2.resize(image_data, (224, 224))\n",
    "        rgb_image = cv2.cvtColor(resized_image, cv2.COLOR_GRAY2RGB)\n",
    "        preprocessed_image = np.expand_dims(rgb_image, axis=0)\n",
    "    return preprocessed_image\n",
    "\n",
    "# Function to detect lines in FIT image using Hough Transform\n",
    "def detect_lines_hough(image_path, min_line_length):\n",
    "    preprocessed_image = preprocess_fit(image_path)\n",
    "    preprocessed_image = preprocessed_image.astype(np.uint8)\n",
    "    edges = cv2.Canny(preprocessed_image[0], 50, 150, apertureSize=3)\n",
    "    lines = cv2.HoughLinesP(edges, 1, np.pi/180, threshold=100, minLineLength=min_line_length, maxLineGap=10)\n",
    "    if lines is not None:\n",
    "        return True\n",
    "    else:\n",
    "        return False\n",
    "\n",
    "# Function to detect lines in FIT image using MobileNetV2\n",
    "def detect_lines_cnn(image_path, min_line_length, model):\n",
    "    preprocessed_image = preprocess_fit(image_path)\n",
    "    prediction = model.predict(preprocessed_image, verbose=0)[0][0]\n",
    "    if prediction >= 0.5:\n",
    "        return True\n",
    "    else:\n",
    "        return False\n",
    "\n",
    "# Find the latest dictionary CSV file\n",
    "def find_latest_dictionary_csv(folder_path):\n",
    "    csv_files = [f for f in os.listdir(folder_path) if f.startswith('dictionary') and f.endswith('.csv')]\n",
    "    if not csv_files:\n",
    "        print(\"No dictionary CSV file found.\")\n",
    "        return None\n",
    "    latest_csv = max(csv_files)\n",
    "    return latest_csv\n",
    "\n",
    "# Load labels from the latest dictionary CSV file\n",
    "def load_dictionary(folder_path):\n",
    "    latest_dictionary_csv = find_latest_dictionary_csv(folder_path)\n",
    "    if latest_dictionary_csv:\n",
    "        dictionary_df = pd.read_csv(os.path.join(folder_path, latest_dictionary_csv))\n",
    "        return dictionary_df\n",
    "    else:\n",
    "        print(\"Exiting program.\")\n",
    "        exit()\n",
    "\n",
    "# Function to read FIT files and labels\n",
    "def read_fit_data(folder_path, dictionary_df, model):\n",
    "    filenames = []\n",
    "    ground_truth = []\n",
    "    hough_predictions = []\n",
    "    cnn_predictions = []\n",
    "    for filename in os.listdir(folder_path):\n",
    "        if filename.endswith('.fit') and filename.startswith('tic'):\n",
    "            image_path = os.path.join(folder_path, filename)\n",
    "            matching_row = dictionary_df[dictionary_df['output'] == filename]\n",
    "            if len(matching_row) == 0:\n",
    "                print(f\"No label found for filename: {filename}\")\n",
    "                continue\n",
    "            label = matching_row.iloc[0]['label']\n",
    "            ground_truth.append(label)\n",
    "            hough_prediction = detect_lines_hough(image_path, min_line_length=100)\n",
    "            hough_predictions.append(hough_prediction)\n",
    "            cnn_prediction = detect_lines_cnn(image_path, min_line_length=100, model=model)\n",
    "            cnn_predictions.append(cnn_prediction)\n",
    "            filenames.append(filename)\n",
    "    return pd.DataFrame({\n",
    "        'filename': filenames,\n",
    "        'ground_truth': ground_truth,\n",
    "        'hough_prediction': hough_predictions,\n",
    "        'cnn_prediction': cnn_predictions\n",
    "    })\n",
    "\n",
    "# Define the folder containing FIT files\n",
    "folder_path = './Data/fits/'\n",
    "\n",
    "metrics_list = []\n",
    "\n",
    "for i in range(100):\n",
    "    base_model = MobileNetV2(weights='imagenet', include_top=False, input_shape=(224, 224, 3))\n",
    "    for layer in base_model.layers:\n",
    "        layer.trainable = False\n",
    "\n",
    "    x = GlobalAveragePooling2D()(base_model.output)\n",
    "    x = Dense(256, activation='relu')(x)\n",
    "    predictions = Dense(1, activation='sigmoid')(x)\n",
    "\n",
    "    model = Model(inputs=base_model.input, outputs=predictions)\n",
    "    model.compile(optimizer=Adam(learning_rate=0.0001), loss='binary_crossentropy', metrics=['accuracy'])\n",
    "\n",
    "    dictionary_df = load_dictionary(folder_path)\n",
    "    stats_df = read_fit_data(folder_path, dictionary_df, model)\n",
    "\n",
    "    accuracy, precision, recall, f1 = calculate_metrics(stats_df)\n",
    "\n",
    "    print(i, \".: CNN Model Metrics:\", accuracy, precision, recall, f1)\n",
    "    \n",
    "    model_filename = serialize_model(model, accuracy)\n",
    "    if model_filename:\n",
    "        print(\"Results:\")\n",
    "        display(stats_df)\n",
    "    \n",
    "    metrics_list.append({'Accuracy': accuracy, 'Precision': precision, 'Recall': recall, 'F1': f1})\n",
    "\n",
    "# Save the list of metrics to a CSV file\n",
    "current_datetime = datetime.now().strftime(\"%Y-%m-%d_%H-%M-%S\")\n",
    "csv_filename = f\"model_metrics_mobilenetv2_{current_datetime}.csv\"\n",
    "metrics_df = pd.DataFrame(metrics_list)\n",
    "metrics_df.to_csv(csv_filename, index=False)\n",
    "print(\"Model metrics saved to:\", csv_filename)\n"
   ]
  }
 ],
 "metadata": {
  "kernelspec": {
   "display_name": "Python 3.10.0 64-bit",
   "language": "python",
   "name": "python3"
  },
  "language_info": {
   "codemirror_mode": {
    "name": "ipython",
    "version": 3
   },
   "file_extension": ".py",
   "mimetype": "text/x-python",
   "name": "python",
   "nbconvert_exporter": "python",
   "pygments_lexer": "ipython3",
   "version": "3.10.0"
  },
  "orig_nbformat": 4,
  "vscode": {
   "interpreter": {
    "hash": "369f2c481f4da34e4445cda3fffd2e751bd1c4d706f27375911949ba6bb62e1c"
   }
  }
 },
 "nbformat": 4,
 "nbformat_minor": 2
}
