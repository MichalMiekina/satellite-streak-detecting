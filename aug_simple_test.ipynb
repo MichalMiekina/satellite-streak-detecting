{
 "cells": [
  {
   "cell_type": "code",
   "execution_count": 1,
   "metadata": {},
   "outputs": [
    {
     "name": "stdout",
     "output_type": "stream",
     "text": [
      "Augmented images saved to ./Data/augmented_image_single_test\n"
     ]
    }
   ],
   "source": [
    "import os\n",
    "from PIL import Image\n",
    "from augmentations import flip_image, rotate_and_zoom_image, adjust_brightness, add_noise\n",
    "\n",
    "# Create output directory for augmented images\n",
    "output_dir = \"./Data/augmented_image_single_test\"\n",
    "os.makedirs(output_dir, exist_ok=True)\n",
    "\n",
    "# Load a test image\n",
    "image_path = \"./Data/fits_filtered2/tic6.png\"  \n",
    "if not os.path.exists(image_path):\n",
    "    raise FileNotFoundError(f\"Test image not found at {image_path}\")\n",
    "\n",
    "img = Image.open(image_path)\n",
    "\n",
    "# Apply augmentations and save each as a separate file\n",
    "augmentations = [\n",
    "    (\"horizontal_flip\", flip_image(img, mode='horizontal')),\n",
    "    (\"vertical_flip\", flip_image(img, mode='vertical')),\n",
    "    (\"diagonal_flip\", flip_image(img, mode='diagonal')),\n",
    "    (\"rotate_zoom\", rotate_and_zoom_image(img, angle=8, zoom_factor=1.5)),\n",
    "    (\"brightened\", adjust_brightness(img, factor=1.5)),\n",
    "    (\"noisy\", add_noise(img, noise_level=0.15))\n",
    "]\n",
    "\n",
    "for name, aug_img in augmentations:\n",
    "    output_path = os.path.join(output_dir, f\"{name}.png\")\n",
    "    aug_img.save(output_path)\n",
    "\n",
    "print(f\"Augmented images saved to {output_dir}\")\n"
   ]
  }
 ],
 "metadata": {
  "kernelspec": {
   "display_name": "Python 3",
   "language": "python",
   "name": "python3"
  },
  "language_info": {
   "codemirror_mode": {
    "name": "ipython",
    "version": 3
   },
   "file_extension": ".py",
   "mimetype": "text/x-python",
   "name": "python",
   "nbconvert_exporter": "python",
   "pygments_lexer": "ipython3",
   "version": "3.10.0"
  }
 },
 "nbformat": 4,
 "nbformat_minor": 2
}
