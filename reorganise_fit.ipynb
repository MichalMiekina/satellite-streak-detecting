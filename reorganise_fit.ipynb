{
 "cells": [
  {
   "cell_type": "code",
   "execution_count": 2,
   "metadata": {},
   "outputs": [
    {
     "name": "stdout",
     "output_type": "stream",
     "text": [
      "Copied: MPC_12PslashPons-Brooks_B_180s_ZWO ASI1600MM-Cool_2024-02-22 19-12-26.fit -> tic48.fit\n",
      "Copied: CD-31_3271_ingress_1_R_20s_ZWO ASI1600MM-Cool_2024-02-13 22-52-26.fit -> tic49.fit\n",
      "\n",
      "Copied 2 files to ./Data/fits_ext and updated ./Data/fits_ext/dictionary_0.csv.\n"
     ]
    }
   ],
   "source": [
    "import os\n",
    "import pandas as pd\n",
    "import random\n",
    "from shutil import copy2\n",
    "\n",
    "# Paths and configurations\n",
    "csv_file = \"./Data/fits_ext/dictionary_0.csv\"\n",
    "output_folder = \"./Data/fits_ext\"\n",
    "input_folder = \"./Data/merged_fits\"\n",
    "x_files_to_copy = 2  # Number of files to randomly copy\n",
    "\n",
    "# Create the output folder if it doesn't exist\n",
    "os.makedirs(output_folder, exist_ok=True)\n",
    "\n",
    "# Load the existing CSV or create a new DataFrame\n",
    "if os.path.exists(csv_file):\n",
    "    dictionary_df = pd.read_csv(csv_file)\n",
    "else:\n",
    "    dictionary_df = pd.DataFrame(columns=[\"input\", \"output\", \"label\"])\n",
    "\n",
    "# Get the list of existing files and determine the next ID for naming\n",
    "existing_files = set(dictionary_df[\"input\"].tolist())\n",
    "next_id = dictionary_df.shape[0] + 1  # Start numbering from the next available ID\n",
    "\n",
    "# Step 2: Find all `.fit` files in the input folder\n",
    "input_files = [\n",
    "    f for f in os.listdir(input_folder) if f.endswith(\".fit\") and f not in existing_files\n",
    "]\n",
    "\n",
    "# Step 3: Randomly select X files from the available files\n",
    "files_to_copy = random.sample(input_files, min(len(input_files), x_files_to_copy))\n",
    "\n",
    "# Step 4: Copy selected files, update the dictionary, and print details\n",
    "new_entries = []\n",
    "for file in files_to_copy:\n",
    "    # Define input and output paths\n",
    "    input_path = os.path.join(input_folder, file)\n",
    "    output_file_name = f\"tic{next_id}.fit\"  # Generate the new output file name\n",
    "    output_path = os.path.join(output_folder, output_file_name)\n",
    "    \n",
    "    # Copy the file\n",
    "    copy2(input_path, output_path)\n",
    "    \n",
    "    # Append the new entry\n",
    "    new_entries.append({\"input\": file, \"output\": output_file_name, \"label\": 0})\n",
    "    \n",
    "    # Print details\n",
    "    print(f\"Copied: {file} -> {output_file_name}\")\n",
    "    \n",
    "    # Increment the next ID\n",
    "    next_id += 1\n",
    "\n",
    "# Append new entries to the DataFrame and save it back to the CSV\n",
    "if new_entries:\n",
    "    dictionary_df = pd.concat([dictionary_df, pd.DataFrame(new_entries)], ignore_index=True)\n",
    "    dictionary_df.to_csv(csv_file, index=False)\n",
    "\n",
    "print(f\"\\nCopied {len(new_entries)} files to {output_folder} and updated {csv_file}.\")\n"
   ]
  }
 ],
 "metadata": {
  "kernelspec": {
   "display_name": "Python 3",
   "language": "python",
   "name": "python3"
  },
  "language_info": {
   "codemirror_mode": {
    "name": "ipython",
    "version": 3
   },
   "file_extension": ".py",
   "mimetype": "text/x-python",
   "name": "python",
   "nbconvert_exporter": "python",
   "pygments_lexer": "ipython3",
   "version": "3.10.0"
  }
 },
 "nbformat": 4,
 "nbformat_minor": 2
}
