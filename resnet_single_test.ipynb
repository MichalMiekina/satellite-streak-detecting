{
 "cells": [
  {
   "cell_type": "code",
   "execution_count": 3,
   "metadata": {},
   "outputs": [
    {
     "name": "stdout",
     "output_type": "stream",
     "text": [
      "Prediction: streak\n",
      "Probability of streak: 1.00\n",
      "Probability of no streak: 0.00\n"
     ]
    }
   ],
   "source": [
    "import torch\n",
    "import torchvision.transforms as transforms\n",
    "from torchvision.models import resnet50, ResNet50_Weights\n",
    "from PIL import Image\n",
    "import torch.nn.functional as F\n",
    "import os\n",
    "\n",
    "# Set device\n",
    "device = torch.device('cuda' if torch.cuda.is_available() else 'cpu')\n",
    "\n",
    "# Load the saved model\n",
    "model_path = 'streak_detector.pth'\n",
    "model = resnet50(weights=ResNet50_Weights.IMAGENET1K_V1)\n",
    "num_features = model.fc.in_features\n",
    "model.fc = torch.nn.Linear(num_features, 2)  # Adjust for 2 classes\n",
    "model.load_state_dict(torch.load(model_path, map_location=device))\n",
    "model = model.to(device)\n",
    "model.eval()\n",
    "\n",
    "# Define the transformation\n",
    "transform = transforms.Compose([\n",
    "    transforms.Resize((224, 224)),  # ResNet expects 224x224 images\n",
    "    transforms.ToTensor(),\n",
    "    transforms.Normalize([0.485, 0.456, 0.406], [0.229, 0.224, 0.225])  # ImageNet normalization\n",
    "])\n",
    "\n",
    "# Prediction function\n",
    "def predict_image(image_path, model, transform):\n",
    "    \"\"\"\n",
    "    Predict the class of a single image using the trained model.\n",
    "\n",
    "    Args:\n",
    "        image_path (str): Path to the PNG image file.\n",
    "        model: Loaded PyTorch model.\n",
    "        transform: Image transformation function.\n",
    "\n",
    "    Returns:\n",
    "        Tuple: Prediction label (str), probability of streak, probability of no streak.\n",
    "    \"\"\"\n",
    "    image = Image.open(image_path).convert('RGB')\n",
    "    image = transform(image).unsqueeze(0).to(device)  # Transform and add batch dimension\n",
    "    output = model(image)  # Get logits\n",
    "    probabilities = F.softmax(output, dim=1)  # Convert logits to probabilities\n",
    "    prob_streak, prob_no_streak = probabilities[0].tolist()  # Extract probabilities\n",
    "    prediction = \"streak\" if prob_streak > prob_no_streak else \"no_streak\"\n",
    "    return prediction, prob_streak, prob_no_streak\n",
    "\n",
    "# Example usage\n",
    "image_path = './path/to/your/image.png'  # Replace with your PNG file path\n",
    "image_path = 'C:/Users/Administrator/Documents/GitHub/satellite-detecting/Data/Nowy folder/tic13.png'\n",
    "if os.path.exists(image_path):\n",
    "    prediction, prob_streak, prob_no_streak = predict_image(image_path, model, transform)\n",
    "    print(f\"Prediction: {prediction}\")\n",
    "    print(f\"Probability of streak: {prob_streak:.2f}\")\n",
    "    print(f\"Probability of no streak: {prob_no_streak:.2f}\")\n",
    "else:\n",
    "    print(f\"Error: File '{image_path}' does not exist.\")\n"
   ]
  }
 ],
 "metadata": {
  "kernelspec": {
   "display_name": "Python 3",
   "language": "python",
   "name": "python3"
  },
  "language_info": {
   "codemirror_mode": {
    "name": "ipython",
    "version": 3
   },
   "file_extension": ".py",
   "mimetype": "text/x-python",
   "name": "python",
   "nbconvert_exporter": "python",
   "pygments_lexer": "ipython3",
   "version": "3.10.0"
  }
 },
 "nbformat": 4,
 "nbformat_minor": 2
}
